{
  "nbformat": 4,
  "nbformat_minor": 0,
  "metadata": {
    "colab": {
      "provenance": [],
      "authorship_tag": "ABX9TyOGokdVoZEkLVA3Ooqkd721"
    },
    "kernelspec": {
      "name": "python3",
      "display_name": "Python 3"
    },
    "language_info": {
      "name": "python"
    }
  },
  "cells": [
    {
      "cell_type": "code",
      "source": [
        "import matplotlib.dates as mdates\n",
        "import pandas as pd\n",
        "import matplotlib.pyplot as plt\n",
        "import seaborn as sns\n",
        "from google.colab import drive\n",
        "\n",
        "drive.mount('/content/drive')\n",
        "\n",
        "df = pd.read_csv(\"/content/drive/MyDrive/dsaproje/cleaned.csv\")\n",
        "\n",
        "df['order_date'] = pd.to_datetime(df['order_date'])\n"
      ],
      "metadata": {
        "colab": {
          "base_uri": "https://localhost:8080/"
        },
        "id": "s7nJtFwWxPMc",
        "outputId": "2d8c9eba-542f-4123-d232-a7fcf40fa408"
      },
      "execution_count": 12,
      "outputs": [
        {
          "output_type": "stream",
          "name": "stdout",
          "text": [
            "Drive already mounted at /content/drive; to attempt to forcibly remount, call drive.mount(\"/content/drive\", force_remount=True).\n"
          ]
        }
      ]
    },
    {
      "cell_type": "code",
      "source": [
        "from scipy.stats import chi2_contingency\n",
        "import pandas as pd\n",
        "\n",
        "df_chi = df[['guessed_gender', 'category']].dropna()\n",
        "\n",
        "contingency = pd.crosstab(df_chi['guessed_gender'], df_chi['category'])\n",
        "\n",
        "chi2, p, dof, expected = chi2_contingency(contingency)\n",
        "\n",
        "print(\"Chi-square value:\", round(chi2, 4))\n",
        "print(\"p-value:\", round(p, 4))\n",
        "print(\"Degrees of freedom:\", dof)\n",
        "\n",
        "if p < 0.05:\n",
        "    print(\"Reject H₀ → Gender and category are associated.\")\n",
        "else:\n",
        "    print(\"Fail to reject H₀ → No significant association between gender and category.\")\n"
      ],
      "metadata": {
        "colab": {
          "base_uri": "https://localhost:8080/"
        },
        "id": "4izw-k0zN6TS",
        "outputId": "ee7381fc-5e63-4ff2-ef4f-675b90c6a8d8"
      },
      "execution_count": 11,
      "outputs": [
        {
          "output_type": "stream",
          "name": "stdout",
          "text": [
            "Chi-square value: 78.4049\n",
            "p-value: 0.0001\n",
            "Degrees of freedom: 36\n",
            "Reject H₀ → Gender and category are associated.\n"
          ]
        }
      ]
    },
    {
      "cell_type": "code",
      "source": [
        "from scipy.stats import ttest_ind\n",
        "\n",
        "weekend_sales = df[df['is_weekend'] == True]['quantity']\n",
        "weekday_sales = df[df['is_weekend'] == False]['quantity']\n",
        "\n",
        "stat, p = ttest_ind(weekend_sales, weekday_sales, equal_var=False)\n",
        "\n",
        "print(\"t-statistic:\", round(stat, 4))\n",
        "print(\"p-value:\", round(p, 4))\n",
        "\n",
        "if p < 0.05:\n",
        "    print(\"Reject H₀ → Sales differ between weekdays and weekends.\")\n",
        "else:\n",
        "    print(\"Fail to reject H₀ → No significant difference in sales.\")\n"
      ],
      "metadata": {
        "colab": {
          "base_uri": "https://localhost:8080/"
        },
        "id": "XAUINifuOT6I",
        "outputId": "ac0c93df-daef-4d8e-a159-12fded110c9c"
      },
      "execution_count": 5,
      "outputs": [
        {
          "output_type": "stream",
          "name": "stdout",
          "text": [
            "t-statistic: 1.0546\n",
            "p-value: 0.2928\n",
            "Fail to reject H₀ → No significant difference in sales.\n"
          ]
        }
      ]
    },
    {
      "cell_type": "code",
      "source": [
        "from scipy.stats import f_oneway\n",
        "\n",
        "hourly_groups = [group['quantity'].values for _, group in df.groupby('hour') if len(group) > 1]\n",
        "\n",
        "f_stat, p = f_oneway(*hourly_groups)\n",
        "\n",
        "print(\"F-statistic:\", round(f_stat, 4))\n",
        "print(\"p-value:\", round(p, 4))\n",
        "\n",
        "if p < 0.05:\n",
        "    print(\"Reject H₀ → Sales quantities differ significantly by hour.\")\n",
        "else:\n",
        "    print(\"Fail to reject H₀ → No significant difference by hour.\")\n"
      ],
      "metadata": {
        "colab": {
          "base_uri": "https://localhost:8080/"
        },
        "id": "oabnyiRNOiAr",
        "outputId": "e022ec4b-9611-4c02-8156-834e2ad6f33f"
      },
      "execution_count": 9,
      "outputs": [
        {
          "output_type": "stream",
          "name": "stdout",
          "text": [
            "F-statistic: 0.8624\n",
            "p-value: 0.6304\n",
            "Fail to reject H₀ → No significant difference by hour.\n"
          ]
        }
      ]
    },
    {
      "cell_type": "code",
      "source": [
        "import pandas as pd\n",
        "from scipy.stats import chi2_contingency\n",
        "\n",
        "contingency_table = pd.crosstab(df['city'], df['category'])\n",
        "\n",
        "chi2, p, dof, expected = chi2_contingency(contingency_table)\n",
        "\n",
        "print(\"Chi-Square Statistic:\", chi2)\n",
        "print(\"Degrees of Freedom:\", dof)\n",
        "print(\"P-Value:\", p)\n",
        "\n",
        "if p < 0.05:\n",
        "    print(\"Reject H₀ → Significant relationship between province and product category.\")\n",
        "else:\n",
        "    print(\"Fail to reject H₀ → No significant relationship between province and product category..\")\n"
      ],
      "metadata": {
        "colab": {
          "base_uri": "https://localhost:8080/"
        },
        "id": "Jqlwu_FfxJP7",
        "outputId": "f403afc5-8043-47c2-ea56-609b46a82b14"
      },
      "execution_count": 8,
      "outputs": [
        {
          "output_type": "stream",
          "name": "stdout",
          "text": [
            "Chi-Square Statistic: 1109.3187197919742\n",
            "Degrees of Freedom: 1206\n",
            "P-Value: 0.9777910849475383\n",
            "Fail to reject H₀ → No significant relationship between province and product category..\n"
          ]
        }
      ]
    }
  ]
}